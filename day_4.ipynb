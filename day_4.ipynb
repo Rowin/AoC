{
 "cells": [
  {
   "cell_type": "code",
   "execution_count": 50,
   "metadata": {},
   "outputs": [],
   "source": [
    "with open(\"day_4.txt\", \"r\") as f:\n",
    "    inp = f.readlines()"
   ]
  },
  {
   "cell_type": "code",
   "execution_count": 2,
   "metadata": {},
   "outputs": [],
   "source": [
    "def passport_gen():\n",
    "    passport = \"\"\n",
    "    for line in inp:\n",
    "        if line == \"\\n\":\n",
    "            yield passport\n",
    "            passport = \"\"\n",
    "        else:\n",
    "            passport += line\n",
    "    yield passport\n",
    "\n",
    "def get_passport_dict(passport):\n",
    "    p = \" \".join(passport.split(\"\\n\")).strip() # Replace \\n separator with spaces\n",
    "    passport_dict = {}\n",
    "    for param in p.split(\" \"):\n",
    "        key, value = param.split(\":\")\n",
    "        passport_dict[key] = value\n",
    "    return passport_dict\n",
    "    \n",
    "    \n",
    "def is_valid(passport, required_fields):\n",
    "    passport_dict = get_passport_dict(passport)    \n",
    "    return all({field: (field in passport_dict.keys()) for field in required_fields}.values())\n",
    "    "
   ]
  },
  {
   "cell_type": "markdown",
   "metadata": {},
   "source": [
    "# Part 1"
   ]
  },
  {
   "cell_type": "code",
   "execution_count": 3,
   "metadata": {
    "scrolled": true
   },
   "outputs": [
    {
     "name": "stdout",
     "output_type": "stream",
     "text": [
      "219\n"
     ]
    }
   ],
   "source": [
    "passports = passport_gen()\n",
    "\n",
    "required_fields = ['byr', 'iyr', 'eyr', 'hgt', 'hcl', 'ecl', 'pid']\n",
    "print(sum([int(is_valid(pp, required_fields)) for pp in passports]))"
   ]
  },
  {
   "cell_type": "markdown",
   "metadata": {},
   "source": [
    "# Part 2"
   ]
  },
  {
   "cell_type": "code",
   "execution_count": 56,
   "metadata": {},
   "outputs": [],
   "source": [
    "import re\n",
    "\n",
    "class Validator:\n",
    "    def __init__(self, rules):\n",
    "        self.fields = {}\n",
    "        for name, rule in rules.items():\n",
    "            self.fields[name] = Field(name, rule)\n",
    "            \n",
    "    def check(self, passport_dict, verbose=False):\n",
    "        if verbose:\n",
    "            print(\"**Checking...**\")\n",
    "            result = all([self.fields[key].check(passport_dict.get(key, \"\"), verbose) for key, value in self.fields.items()])\n",
    "            print(f\"=> Result: {result}\")\n",
    "            return result\n",
    "        else:\n",
    "            return all([self.fields[key].check(passport_dict.get(key, \"\")) for key, value in self.fields.items()])\n",
    "            \n",
    "            \n",
    "class Field:\n",
    "    def __init__(self, name, rules):\n",
    "        self.name = name\n",
    "        self.regex = rules['regex']\n",
    "        if 'vmin' in rules:\n",
    "            self.vmin = rules['vmin']\n",
    "        if 'vmax' in rules:\n",
    "            self.vmax = rules['vmax']\n",
    "        if 'func' in rules:\n",
    "            self.func = rules['func']\n",
    "            \n",
    "    def check(self, value, verbose=False):\n",
    "        if verbose:\n",
    "            print(f\"{self.name}: {value}\")\n",
    "        try:\n",
    "            if value == \"\":\n",
    "                raise Exception(\"The field is mandatory\")\n",
    "            \n",
    "            if not (match := re.match(self.regex, value)):\n",
    "                raise Exception(\"The regex doesn't match\")\n",
    "\n",
    "            try:\n",
    "                if self.vmin > int(value):\n",
    "                    raise Exception(\"The value is less than minimal\")\n",
    "            except AttributeError:\n",
    "                pass\n",
    "\n",
    "            try:\n",
    "                if self.vmax < int(value):\n",
    "                    raise Exception(\"The value is more than maximal\")\n",
    "            except AttributeError:\n",
    "                pass\n",
    "\n",
    "            try:\n",
    "                if not self.func(match):\n",
    "                    raise Exception(\"The value doesn't validate the user-defined function\")\n",
    "            except AttributeError:\n",
    "                pass\n",
    "\n",
    "            return True\n",
    "        except Exception as e:\n",
    "            if verbose:\n",
    "                print(e)\n",
    "            return False\n",
    "        \n",
    "def height_validation(match):\n",
    "    if match[2] == \"in\":\n",
    "        if int(match[1]) < 59 or int(match[1]) > 76:\n",
    "            return False\n",
    "    elif match[2] == \"cm\":\n",
    "        if int(match[1]) < 150 or int(match[1]) > 193:\n",
    "            return False\n",
    "    return True\n",
    "\n",
    "validation_rules = {\n",
    "    'byr': {'regex': '^\\d{4}$', 'vmin': 1920 , 'vmax': 2002}, \n",
    "    'iyr': {'regex': '^\\d{4}$', 'vmin': 2010 , 'vmax': 2020},\n",
    "    'eyr': {'regex': '^\\d{4}$', 'vmin': 2020 , 'vmax': 2030},  \n",
    "    'hgt': {'regex': '^(\\d+)(cm|in)$', 'func': height_validation}, \n",
    "    'hcl': {'regex': '^\\#[a-f0-9]{6}$'},  \n",
    "    'ecl': {'regex': '^(amb|blu|brn|gry|grn|hzl|oth)$'}, \n",
    "    'pid': {'regex': '^\\d{9}$'},\n",
    "}\n",
    "\n",
    "\n",
    "validator = Validator(validation_rules)\n"
   ]
  },
  {
   "cell_type": "code",
   "execution_count": 57,
   "metadata": {},
   "outputs": [
    {
     "data": {
      "text/plain": [
       "127"
      ]
     },
     "execution_count": 57,
     "metadata": {},
     "output_type": "execute_result"
    }
   ],
   "source": [
    "passports = passport_gen()\n",
    "\n",
    "sum([validator.check(get_passport_dict(pp)) for pp in passports])"
   ]
  }
 ],
 "metadata": {
  "kernelspec": {
   "display_name": "python3.8",
   "language": "python",
   "name": "python3.8"
  },
  "language_info": {
   "codemirror_mode": {
    "name": "ipython",
    "version": 3
   },
   "file_extension": ".py",
   "mimetype": "text/x-python",
   "name": "python",
   "nbconvert_exporter": "python",
   "pygments_lexer": "ipython3",
   "version": "3.8.1"
  }
 },
 "nbformat": 4,
 "nbformat_minor": 2
}
