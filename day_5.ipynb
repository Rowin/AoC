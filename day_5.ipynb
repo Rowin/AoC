{
 "cells": [
  {
   "cell_type": "code",
   "execution_count": 13,
   "metadata": {},
   "outputs": [],
   "source": [
    "with open(\"day_5.txt\", \"r\") as f:\n",
    "    inp = f.readlines()"
   ]
  },
  {
   "cell_type": "code",
   "execution_count": null,
   "metadata": {},
   "outputs": [],
   "source": [
    "groups = group_gen()\n",
    "\n",
    "counter = 0\n",
    "for group in groups:\n",
    "    count = 0\n",
    "    answers_dict = {}\n",
    "    for answers in group.strip().split(\"\\n\"):\n",
    "        count += 1\n",
    "        for letter in answers.strip():\n",
    "            answers_dict.setdefault(letter, 0)\n",
    "            answers_dict[letter] += 1\n",
    "    \n",
    "    counter += sum([letter_count == count for letter_count in answers_dict.values()])\n",
    "    \n",
    "print(counter)"
   ]
  },
  {
   "cell_type": "markdown",
   "metadata": {},
   "source": [
    "# Part 1"
   ]
  },
  {
   "cell_type": "code",
   "execution_count": 14,
   "metadata": {},
   "outputs": [],
   "source": [
    "def get_seat_id(boarding_pass):\n",
    "    replacements = {\n",
    "        \"F\": \"0\",\n",
    "        \"B\": \"1\",\n",
    "        \"L\": \"0\",\n",
    "        \"R\": \"1\"\n",
    "    }\n",
    "    \n",
    "    seat_id = \"0b\"\n",
    "    for letter in boarding_pass:\n",
    "        seat_id += replacements[letter]\n",
    "        \n",
    "    return int(seat_id, 2)"
   ]
  },
  {
   "cell_type": "code",
   "execution_count": 18,
   "metadata": {},
   "outputs": [
    {
     "data": {
      "text/plain": [
       "816"
      ]
     },
     "execution_count": 18,
     "metadata": {},
     "output_type": "execute_result"
    }
   ],
   "source": [
    "seats_id = [get_seat_id(boarding_pass.strip()) for boarding_pass in inp]\n",
    "\n",
    "max(seats_id)"
   ]
  },
  {
   "cell_type": "markdown",
   "metadata": {},
   "source": [
    "# Part 2"
   ]
  },
  {
   "cell_type": "code",
   "execution_count": 20,
   "metadata": {},
   "outputs": [
    {
     "name": "stdout",
     "output_type": "stream",
     "text": [
      "539\n"
     ]
    }
   ],
   "source": [
    "for seat_id in range(min(seats_id), max(seats_id)+1):\n",
    "    if seat_id not in seats_id:\n",
    "        print(seat_id)"
   ]
  },
  {
   "cell_type": "markdown",
   "metadata": {},
   "source": [
    "Seat 539 seems to be the only candidate. Let's check if seats 538 and 540 exist"
   ]
  },
  {
   "cell_type": "code",
   "execution_count": 22,
   "metadata": {},
   "outputs": [
    {
     "name": "stdout",
     "output_type": "stream",
     "text": [
      "True\n",
      "False\n",
      "True\n"
     ]
    }
   ],
   "source": [
    "print(538 in seats_id)\n",
    "print(539 in seats_id)\n",
    "print(540 in seats_id)"
   ]
  }
 ],
 "metadata": {
  "kernelspec": {
   "display_name": "python3.8",
   "language": "python",
   "name": "python3.8"
  },
  "language_info": {
   "codemirror_mode": {
    "name": "ipython",
    "version": 3
   },
   "file_extension": ".py",
   "mimetype": "text/x-python",
   "name": "python",
   "nbconvert_exporter": "python",
   "pygments_lexer": "ipython3",
   "version": "3.8.1"
  }
 },
 "nbformat": 4,
 "nbformat_minor": 2
}
