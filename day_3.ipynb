{
 "cells": [
  {
   "cell_type": "code",
   "execution_count": 17,
   "metadata": {},
   "outputs": [],
   "source": [
    "with open(\"day_3.txt\", \"r\") as f:\n",
    "    inp = f.readlines()"
   ]
  },
  {
   "cell_type": "code",
   "execution_count": 33,
   "metadata": {},
   "outputs": [],
   "source": [
    "forest_width = len(inp[0].strip())\n",
    "\n",
    "def count_trees(right, down):\n",
    "    tree_counter = 0\n",
    "    a = right / down\n",
    "    for i, line in enumerate(inp):\n",
    "        if i % down == 0:\n",
    "            if line[int((a*i) % forest_width)] == \"#\":\n",
    "                tree_counter += 1\n",
    "                \n",
    "    print(f\"For {right} right and {down} down : {tree_counter} trees encountered\")\n",
    "    return tree_counter"
   ]
  },
  {
   "cell_type": "markdown",
   "metadata": {},
   "source": [
    "# Part 1"
   ]
  },
  {
   "cell_type": "code",
   "execution_count": 37,
   "metadata": {},
   "outputs": [
    {
     "name": "stdout",
     "output_type": "stream",
     "text": [
      "For 3 right and 1 down : 195 trees encountered\n"
     ]
    },
    {
     "data": {
      "text/plain": [
       "195"
      ]
     },
     "execution_count": 37,
     "metadata": {},
     "output_type": "execute_result"
    }
   ],
   "source": [
    "count_trees(3, 1)"
   ]
  },
  {
   "cell_type": "markdown",
   "metadata": {},
   "source": [
    "# Part 2"
   ]
  },
  {
   "cell_type": "code",
   "execution_count": 39,
   "metadata": {},
   "outputs": [
    {
     "name": "stdout",
     "output_type": "stream",
     "text": [
      "For 1 right and 1 down : 84 trees encountered\n",
      "For 3 right and 1 down : 195 trees encountered\n",
      "For 5 right and 1 down : 70 trees encountered\n",
      "For 7 right and 1 down : 70 trees encountered\n",
      "For 1 right and 2 down : 47 trees encountered\n",
      "3772314000\n"
     ]
    }
   ],
   "source": [
    "config = [\n",
    "    [1, 1],\n",
    "    [3, 1],\n",
    "    [5, 1],\n",
    "    [7, 1],\n",
    "    [1, 2],\n",
    "]\n",
    "\n",
    "mult = 1\n",
    "for conf in config:\n",
    "    mult *= count_trees(conf[0], conf[1])\n",
    "    \n",
    "print(mult)"
   ]
  }
 ],
 "metadata": {
  "kernelspec": {
   "display_name": "Python 3",
   "language": "python",
   "name": "python3"
  },
  "language_info": {
   "codemirror_mode": {
    "name": "ipython",
    "version": 3
   },
   "file_extension": ".py",
   "mimetype": "text/x-python",
   "name": "python",
   "nbconvert_exporter": "python",
   "pygments_lexer": "ipython3",
   "version": "3.7.3"
  }
 },
 "nbformat": 4,
 "nbformat_minor": 2
}
