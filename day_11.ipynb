{
 "cells": [
  {
   "cell_type": "code",
   "execution_count": 1,
   "metadata": {},
   "outputs": [],
   "source": [
    "with open(\"day_11.txt\", \"r\") as f:\n",
    "    inp = f.readlines()"
   ]
  },
  {
   "cell_type": "code",
   "execution_count": 2,
   "metadata": {},
   "outputs": [],
   "source": [
    "import numpy as np\n",
    "\n",
    "seats = [[letter for letter in line.strip()] for line in inp]\n",
    "seats = np.array(seats)"
   ]
  },
  {
   "cell_type": "code",
   "execution_count": 3,
   "metadata": {},
   "outputs": [],
   "source": [
    "def occupied_neighbors(seats, i, j):\n",
    "    nb_rows, nb_cols = seats.shape\n",
    "    counter = 0\n",
    "    \n",
    "    if i > 0:\n",
    "        counter += is_occupied(seats[i-1, j])\n",
    "    if j > 0:\n",
    "        counter += is_occupied(seats[i, j-1])\n",
    "    if i < nb_rows - 1:\n",
    "        counter += is_occupied(seats[i+1, j])\n",
    "    if j < nb_cols - 1:\n",
    "        counter += is_occupied(seats[i, j+1])\n",
    "        \n",
    "    if i > 0 and j > 0:\n",
    "        counter += is_occupied(seats[i-1, j-1])\n",
    "    if i > 0 and j < nb_cols - 1:\n",
    "        counter += is_occupied(seats[i-1, j+1])\n",
    "    if i < nb_rows - 1 and j > 0:\n",
    "        counter += is_occupied(seats[i+1, j-1])\n",
    "    if i < nb_rows - 1 and j < nb_cols - 1:\n",
    "        counter += is_occupied(seats[i+1, j+1])\n",
    "\n",
    "    return counter\n",
    "\n",
    "def is_occupied(seat):\n",
    "    if seat == \"#\":\n",
    "        return True\n",
    "    return False\n",
    "\n",
    "def stage(seats):\n",
    "    nb_rows, nb_cols = seats.shape\n",
    "    new_seats = np.empty((nb_rows, nb_cols), dtype=str)\n",
    "    \n",
    "    for x in range(nb_rows):\n",
    "        for y in range(nb_cols):\n",
    "            if seats[x, y] == '.':\n",
    "                new_seats[x, y] = '.'\n",
    "            elif seats[x, y] == 'L':\n",
    "                if occupied_neighbors(seats, x, y) == 0:\n",
    "                    new_seats[x, y] = '#'\n",
    "                else:\n",
    "                    new_seats[x, y] = 'L'\n",
    "            elif seats[x, y] == '#':\n",
    "                if occupied_neighbors(seats, x, y) >= 4:\n",
    "                    new_seats[x, y] = 'L'\n",
    "                else:\n",
    "                    new_seats[x, y] = '#'\n",
    "                    \n",
    "    return new_seats"
   ]
  },
  {
   "cell_type": "code",
   "execution_count": 4,
   "metadata": {},
   "outputs": [
    {
     "name": "stdout",
     "output_type": "stream",
     "text": [
      "2303\n"
     ]
    }
   ],
   "source": [
    "new_seats = seats\n",
    "previous_seats = []\n",
    "while not np.array_equal(new_seats, previous_seats):\n",
    "    previous_seats = new_seats\n",
    "    new_seats = stage(previous_seats)\n",
    "    \n",
    "print(np.count_nonzero(new_seats == '#'))"
   ]
  },
  {
   "cell_type": "code",
   "execution_count": 5,
   "metadata": {},
   "outputs": [
    {
     "name": "stdout",
     "output_type": "stream",
     "text": [
      "[['#' 'L' '#' ... '#' 'L' '#']\n",
      " ['L' 'L' 'L' ... 'L' 'L' 'L']\n",
      " ['#' 'L' '#' ... '#' 'L' '#']\n",
      " ...\n",
      " ['#' 'L' '#' ... '.' '#' '.']\n",
      " ['L' 'L' 'L' ... '.' 'L' 'L']\n",
      " ['#' 'L' '#' ... '#' 'L' '#']]\n"
     ]
    }
   ],
   "source": []
  },
  {
   "cell_type": "code",
   "execution_count": null,
   "metadata": {},
   "outputs": [],
   "source": []
  }
 ],
 "metadata": {
  "kernelspec": {
   "display_name": "Python 3",
   "language": "python",
   "name": "python3"
  },
  "language_info": {
   "codemirror_mode": {
    "name": "ipython",
    "version": 3
   },
   "file_extension": ".py",
   "mimetype": "text/x-python",
   "name": "python",
   "nbconvert_exporter": "python",
   "pygments_lexer": "ipython3",
   "version": "3.7.3"
  }
 },
 "nbformat": 4,
 "nbformat_minor": 2
}
