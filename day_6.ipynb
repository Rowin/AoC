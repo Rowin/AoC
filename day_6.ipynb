{
 "cells": [
  {
   "cell_type": "code",
   "execution_count": 32,
   "metadata": {},
   "outputs": [],
   "source": [
    "with open(\"day_6.txt\", \"r\") as f:\n",
    "    inp = f.readlines()"
   ]
  },
  {
   "cell_type": "markdown",
   "metadata": {},
   "source": [
    "# Part 1"
   ]
  },
  {
   "cell_type": "code",
   "execution_count": 33,
   "metadata": {},
   "outputs": [
    {
     "name": "stdout",
     "output_type": "stream",
     "text": [
      "6551\n"
     ]
    }
   ],
   "source": [
    "groups = group_gen()\n",
    "\n",
    "counter = 0\n",
    "for group in groups:\n",
    "    answers_dict = {}\n",
    "    for answers in group.strip().split(\"\\n\"):\n",
    "        count += 1\n",
    "        for letter in answers.strip():\n",
    "            answers_dict[letter] = True\n",
    "    \n",
    "    counter += sum(answers_dict.values())\n",
    "    \n",
    "print(counter)"
   ]
  },
  {
   "cell_type": "markdown",
   "metadata": {},
   "source": [
    "# Part 2"
   ]
  },
  {
   "cell_type": "code",
   "execution_count": 34,
   "metadata": {},
   "outputs": [
    {
     "name": "stdout",
     "output_type": "stream",
     "text": [
      "3358\n"
     ]
    }
   ],
   "source": [
    "groups = group_gen()\n",
    "\n",
    "counter = 0\n",
    "for group in groups:\n",
    "    count = 0\n",
    "    answers_dict = {}\n",
    "    for answers in group.strip().split(\"\\n\"):\n",
    "        count += 1\n",
    "        for letter in answers.strip():\n",
    "            answers_dict.setdefault(letter, 0)\n",
    "            answers_dict[letter] += 1\n",
    "    \n",
    "    counter += sum([letter_count == count for letter_count in answers_dict.values()])\n",
    "    \n",
    "print(counter)"
   ]
  }
 ],
 "metadata": {
  "kernelspec": {
   "display_name": "python3.8",
   "language": "python",
   "name": "python3.8"
  },
  "language_info": {
   "codemirror_mode": {
    "name": "ipython",
    "version": 3
   },
   "file_extension": ".py",
   "mimetype": "text/x-python",
   "name": "python",
   "nbconvert_exporter": "python",
   "pygments_lexer": "ipython3",
   "version": "3.8.1"
  }
 },
 "nbformat": 4,
 "nbformat_minor": 2
}
