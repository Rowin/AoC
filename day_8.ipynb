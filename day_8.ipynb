{
 "cells": [
  {
   "cell_type": "markdown",
   "metadata": {},
   "source": [
    "# Input"
   ]
  },
  {
   "cell_type": "code",
   "execution_count": 65,
   "metadata": {},
   "outputs": [],
   "source": [
    "with open(\"day_8.txt\", \"r\") as f:\n",
    "    inp = f.readlines()"
   ]
  },
  {
   "cell_type": "code",
   "execution_count": 53,
   "metadata": {},
   "outputs": [],
   "source": [
    "inp = [\n",
    "    \"nop +0\\n\",\n",
    "    \"acc +1\\n\",\n",
    "    \"jmp +4\\n\",\n",
    "    \"acc +3\\n\",\n",
    "    \"jmp -3\\n\",\n",
    "    \"acc -99\\n\",\n",
    "    \"acc +1\\n\",\n",
    "    \"jmp -4\\n\",\n",
    "    \"acc +6\\n\"\n",
    "]"
   ]
  },
  {
   "cell_type": "markdown",
   "metadata": {},
   "source": [
    "# Utils"
   ]
  },
  {
   "cell_type": "code",
   "execution_count": 66,
   "metadata": {},
   "outputs": [],
   "source": [
    "import re \n",
    "\n",
    "prog = []\n",
    "for line in inp:\n",
    "    res = re.match('(nop|acc|jmp) ([+-]\\d*)', line)\n",
    "    cmd, arg = res.group(1, 2)\n",
    "    prog.append((cmd, int(arg)))"
   ]
  },
  {
   "cell_type": "code",
   "execution_count": 62,
   "metadata": {},
   "outputs": [],
   "source": [
    "def run_program(prog):\n",
    "    acc = 0\n",
    "    index = 0\n",
    "    history = []\n",
    "    while True:\n",
    "        history.append(index)\n",
    "        cmd, arg = prog[index]\n",
    "        if cmd == \"nop\":\n",
    "            index += 1\n",
    "        elif cmd == \"acc\":\n",
    "            acc += arg\n",
    "            index += 1\n",
    "        elif cmd == \"jmp\":\n",
    "            index += arg\n",
    "\n",
    "        if index in history:\n",
    "            raise Exception(f\"Infinite loop detected ! Acc value : {acc}\")\n",
    "            \n",
    "        if index == len(prog):\n",
    "            raise IndexError(f\"The program succeeded ! Acc value : {acc}\")\n"
   ]
  },
  {
   "cell_type": "markdown",
   "metadata": {},
   "source": [
    "# Part 1"
   ]
  },
  {
   "cell_type": "code",
   "execution_count": 67,
   "metadata": {},
   "outputs": [
    {
     "name": "stdout",
     "output_type": "stream",
     "text": [
      "Infinite loop detected ! Acc value : 2014\n"
     ]
    }
   ],
   "source": [
    "try:\n",
    "    run_program(prog)\n",
    "except Exception as e:\n",
    "    print(e)"
   ]
  },
  {
   "cell_type": "markdown",
   "metadata": {},
   "source": [
    "# Part 2"
   ]
  },
  {
   "cell_type": "code",
   "execution_count": 68,
   "metadata": {},
   "outputs": [
    {
     "name": "stdout",
     "output_type": "stream",
     "text": [
      "Infinite loop by changing jmp at line 1\n",
      "Infinite loop by changing jmp at line 2\n",
      "Infinite loop by changing jmp at line 3\n",
      "Infinite loop by changing jmp at line 4\n",
      "Infinite loop by changing jmp at line 9\n",
      "Infinite loop by changing jmp at line 10\n",
      "Infinite loop by changing jmp at line 13\n",
      "Infinite loop by changing jmp at line 18\n",
      "Infinite loop by changing nop at line 20\n",
      "Infinite loop by changing jmp at line 22\n",
      "Infinite loop by changing jmp at line 23\n",
      "Infinite loop by changing jmp at line 25\n",
      "Infinite loop by changing jmp at line 27\n",
      "Infinite loop by changing jmp at line 29\n",
      "Infinite loop by changing jmp at line 32\n",
      "Infinite loop by changing jmp at line 33\n",
      "Infinite loop by changing jmp at line 36\n",
      "Infinite loop by changing jmp at line 37\n",
      "Infinite loop by changing jmp at line 40\n",
      "Infinite loop by changing nop at line 41\n",
      "Infinite loop by changing jmp at line 44\n",
      "Infinite loop by changing jmp at line 48\n",
      "Infinite loop by changing jmp at line 53\n",
      "Infinite loop by changing jmp at line 56\n",
      "Infinite loop by changing jmp at line 58\n",
      "Infinite loop by changing jmp at line 60\n",
      "Infinite loop by changing jmp at line 62\n",
      "Infinite loop by changing nop at line 64\n",
      "Infinite loop by changing nop at line 65\n",
      "Infinite loop by changing jmp at line 66\n",
      "Infinite loop by changing nop at line 69\n",
      "Infinite loop by changing jmp at line 71\n",
      "Infinite loop by changing jmp at line 72\n",
      "Infinite loop by changing jmp at line 74\n",
      "Infinite loop by changing jmp at line 75\n",
      "Infinite loop by changing nop at line 76\n",
      "Infinite loop by changing jmp at line 78\n",
      "Infinite loop by changing jmp at line 79\n",
      "Infinite loop by changing nop at line 80\n",
      "Infinite loop by changing jmp at line 81\n",
      "Infinite loop by changing nop at line 82\n",
      "Infinite loop by changing jmp at line 83\n",
      "Infinite loop by changing jmp at line 86\n",
      "Infinite loop by changing jmp at line 89\n",
      "Infinite loop by changing jmp at line 91\n",
      "Infinite loop by changing jmp at line 92\n",
      "Infinite loop by changing jmp at line 97\n",
      "Infinite loop by changing nop at line 99\n",
      "Infinite loop by changing jmp at line 101\n",
      "Infinite loop by changing jmp at line 102\n",
      "Infinite loop by changing jmp at line 103\n",
      "Infinite loop by changing jmp at line 106\n",
      "Infinite loop by changing jmp at line 108\n",
      "Infinite loop by changing jmp at line 109\n",
      "Infinite loop by changing jmp at line 110\n",
      "Infinite loop by changing jmp at line 115\n",
      "Infinite loop by changing jmp at line 117\n",
      "Infinite loop by changing jmp at line 118\n",
      "Infinite loop by changing jmp at line 123\n",
      "Infinite loop by changing jmp at line 126\n",
      "Infinite loop by changing jmp at line 131\n",
      "Infinite loop by changing nop at line 133\n",
      "Infinite loop by changing jmp at line 134\n",
      "Infinite loop by changing nop at line 136\n",
      "Infinite loop by changing jmp at line 137\n",
      "Infinite loop by changing nop at line 139\n",
      "Infinite loop by changing jmp at line 140\n",
      "Infinite loop by changing jmp at line 143\n",
      "Infinite loop by changing jmp at line 146\n",
      "Infinite loop by changing jmp at line 147\n",
      "Infinite loop by changing nop at line 150\n",
      "Infinite loop by changing jmp at line 152\n",
      "Infinite loop by changing nop at line 154\n",
      "Infinite loop by changing jmp at line 155\n",
      "Infinite loop by changing jmp at line 159\n",
      "Infinite loop by changing jmp at line 161\n",
      "Infinite loop by changing nop at line 162\n",
      "Infinite loop by changing jmp at line 163\n",
      "Infinite loop by changing jmp at line 165\n",
      "Infinite loop by changing jmp at line 166\n",
      "Infinite loop by changing jmp at line 168\n",
      "Infinite loop by changing nop at line 169\n",
      "Infinite loop by changing jmp at line 170\n",
      "Infinite loop by changing jmp at line 172\n",
      "Infinite loop by changing jmp at line 174\n",
      "Infinite loop by changing nop at line 178\n",
      "Infinite loop by changing jmp at line 179\n",
      "Infinite loop by changing jmp at line 184\n",
      "Infinite loop by changing jmp at line 187\n",
      "Infinite loop by changing jmp at line 191\n",
      "Infinite loop by changing jmp at line 195\n",
      "Infinite loop by changing jmp at line 200\n",
      "Infinite loop by changing jmp at line 202\n",
      "Infinite loop by changing jmp at line 207\n",
      "Infinite loop by changing jmp at line 209\n",
      "Infinite loop by changing jmp at line 211\n",
      "Infinite loop by changing jmp at line 215\n",
      "Infinite loop by changing nop at line 216\n",
      "Infinite loop by changing jmp at line 219\n",
      "Infinite loop by changing jmp at line 220\n",
      "Infinite loop by changing jmp at line 224\n",
      "Infinite loop by changing nop at line 228\n",
      "Infinite loop by changing jmp at line 229\n",
      "Infinite loop by changing jmp at line 232\n",
      "Infinite loop by changing jmp at line 233\n",
      "Infinite loop by changing nop at line 234\n",
      "Infinite loop by changing jmp at line 235\n",
      "Infinite loop by changing jmp at line 239\n",
      "Infinite loop by changing nop at line 240\n",
      "Infinite loop by changing jmp at line 241\n",
      "Infinite loop by changing jmp at line 244\n",
      "Infinite loop by changing nop at line 245\n",
      "Infinite loop by changing jmp at line 249\n",
      "Infinite loop by changing nop at line 253\n",
      "Infinite loop by changing jmp at line 254\n",
      "Infinite loop by changing nop at line 255\n",
      "Infinite loop by changing jmp at line 258\n",
      "Infinite loop by changing jmp at line 261\n",
      "Infinite loop by changing jmp at line 262\n",
      "Infinite loop by changing jmp at line 264\n",
      "Infinite loop by changing nop at line 267\n",
      "Infinite loop by changing jmp at line 268\n",
      "Infinite loop by changing nop at line 270\n",
      "Infinite loop by changing jmp at line 272\n",
      "Infinite loop by changing nop at line 276\n",
      "The program succeeded ! Acc value : 2251\n"
     ]
    }
   ],
   "source": [
    "from copy import copy\n",
    "\n",
    "for i, (cmd, arg) in enumerate(prog):\n",
    "    copyprog = copy(prog)\n",
    "    if cmd == 'nop':\n",
    "        copyprog[i] = ('jmp', arg)\n",
    "    elif cmd == 'jmp':\n",
    "        copyprog[i] = ('nop', arg)\n",
    "    else:\n",
    "        continue\n",
    "        \n",
    "    try:\n",
    "        run_program(copyprog)\n",
    "    except IndexError as e:\n",
    "        print(e)\n",
    "        break\n",
    "    except Exception as e:\n",
    "        print(f\"Infinite loop by changing {cmd} at line {i}\")\n",
    "        continue"
   ]
  }
 ],
 "metadata": {
  "kernelspec": {
   "display_name": "Python 3",
   "language": "python",
   "name": "python3"
  },
  "language_info": {
   "codemirror_mode": {
    "name": "ipython",
    "version": 3
   },
   "file_extension": ".py",
   "mimetype": "text/x-python",
   "name": "python",
   "nbconvert_exporter": "python",
   "pygments_lexer": "ipython3",
   "version": "3.7.3"
  }
 },
 "nbformat": 4,
 "nbformat_minor": 2
}
