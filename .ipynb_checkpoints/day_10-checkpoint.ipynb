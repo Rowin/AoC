{
 "cells": [
  {
   "cell_type": "code",
   "execution_count": 62,
   "metadata": {},
   "outputs": [],
   "source": [
    "with open(\"day_10.txt\", \"r\") as f:\n",
    "    inp = f.readlines()"
   ]
  },
  {
   "cell_type": "code",
   "execution_count": 63,
   "metadata": {},
   "outputs": [
    {
     "name": "stdout",
     "output_type": "stream",
     "text": [
      "1 jolt difference : 65\n",
      "3 jolts difference : 28\n",
      "2 jolts difference : 0\n",
      "Solution : 1820\n"
     ]
    }
   ],
   "source": [
    "adaptors = sorted([int(line) for line in inp])\n",
    "adaptors.insert(0, 0)\n",
    "ratings_difference = [adaptors[i] - adaptors[i-1] for i, _ in enumerate(adaptors[1:], 1)]\n",
    "\n",
    "j1 = ratings_difference.count(1)\n",
    "j3 = ratings_difference.count(3)+1 # Taking into account the input of the device\n",
    "j2 = ratings_difference.count(2)\n",
    "\n",
    "print(f\"1 jolt difference : {j1}\")\n",
    "print(f\"3 jolts difference : {j3}\")\n",
    "print(f\"2 jolts difference : {j2}\")\n",
    "\n",
    "print(f\"Solution : {j1*j3}\")"
   ]
  },
  {
   "cell_type": "markdown",
   "metadata": {},
   "source": [
    "There is only 1 jolt or 3 jolt differences. An adapter surrounded by 1 jolt differences can be removed (as it'll leave a 2 jolts gap). An adapter surrounded by at least 3 "
   ]
  },
  {
   "cell_type": "code",
   "execution_count": 64,
   "metadata": {},
   "outputs": [
    {
     "name": "stdout",
     "output_type": "stream",
     "text": [
      "{-1: 6, 0: 3, 1: 2, 2: 10, 3: 7, 4: 0, 5: 0, 6: 0, 7: 0, 8: 0, 9: 0}\n"
     ]
    }
   ],
   "source": [
    "a = ''.join([str(i) for i in ratings_difference]).split('3')\n",
    "arr = {i: 0 for i in range(-1, 10)}\n",
    "for i in a:\n",
    "    arr[len(i)-1] += 1\n",
    "    \n",
    "print(arr)"
   ]
  },
  {
   "cell_type": "code",
   "execution_count": 65,
   "metadata": {},
   "outputs": [
    {
     "data": {
      "text/plain": [
       "3454189699072"
      ]
     },
     "execution_count": 65,
     "metadata": {},
     "output_type": "execute_result"
    }
   ],
   "source": [
    "2**2 * 4**10 * 7**7"
   ]
  }
 ],
 "metadata": {
  "kernelspec": {
   "display_name": "Python 3",
   "language": "python",
   "name": "python3"
  },
  "language_info": {
   "codemirror_mode": {
    "name": "ipython",
    "version": 3
   },
   "file_extension": ".py",
   "mimetype": "text/x-python",
   "name": "python",
   "nbconvert_exporter": "python",
   "pygments_lexer": "ipython3",
   "version": "3.7.3"
  }
 },
 "nbformat": 4,
 "nbformat_minor": 2
}
