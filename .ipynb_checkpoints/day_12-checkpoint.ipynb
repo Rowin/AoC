{
 "cells": [
  {
   "cell_type": "code",
   "execution_count": 1,
   "metadata": {},
   "outputs": [],
   "source": [
    "with open(\"day_12.txt\", \"r\") as f:\n",
    "    inp = f.readlines()"
   ]
  },
  {
   "cell_type": "code",
   "execution_count": 26,
   "metadata": {},
   "outputs": [],
   "source": [
    "import re\n",
    "\n",
    "class Ship:\n",
    "    direc = {\n",
    "        'N' : (0, -1),\n",
    "        'E' : (1, 0),\n",
    "        'S' : (0, 1),\n",
    "        'W' : (-1, 0)\n",
    "    }\n",
    "    \n",
    "    \n",
    "    def __init__(self, pos=(0, 0), orientation='E'):\n",
    "        self.pos = pos\n",
    "        self.orientation = orientation\n",
    "        \n",
    "    def instruction(self, inst):\n",
    "        res = re.match('(N|S|E|W|L|R|F)(\\d+)', inst)\n",
    "        command, value = res.group(1, 2)\n",
    "        \n",
    "        if command in 'NSEWF':\n",
    "            self.move(command, value)\n",
    "        elif command in 'LR':\n",
    "            self.rotate(command, value)\n",
    "            \n",
    "        # print(s)\n",
    "        \n",
    "    def move(self, direction, value):\n",
    "        if direction == 'F':\n",
    "            direction = self.orientation\n",
    "        self.pos = self.get_pos_after_move(self.pos, self.direc[direction], value)\n",
    "\n",
    "    def rotate(self, direction, value):\n",
    "        way = 1 if direction == 'R' else -1\n",
    "        available_directions = list(self.direc.keys())\n",
    "        new_direction_index = (available_directions.index(self.orientation) + way*int(value)/90)%4\n",
    "        self.orientation = available_directions[int(new_direction_index)]\n",
    "        \n",
    "    def __str__(self):\n",
    "        return f'Ship at {self.pos}, facing {self.orientation}'\n",
    "    \n",
    "    @staticmethod\n",
    "    def get_pos_after_move(pos, offset, value):\n",
    "        x, y = pos\n",
    "        dx, dy = offset\n",
    "        return x + int(value)*dx, y + int(value)*dy\n",
    "    \n",
    "    @staticmethod\n",
    "    def get_distance(pos1, pos2):\n",
    "        x1, y1 = pos1\n",
    "        x2, y2 = pos2\n",
    "        return abs(x2-x1) + abs(y2-y1)\n",
    "    \n",
    "    @staticmethod\n",
    "    def repr_coord(pos):\n",
    "        x, y = pos\n",
    "        lat = 'S' if y > 0 else 'N'\n",
    "        long = 'E' if x > 0 else 'W'\n",
    "        return f'{abs(x)}{long} {abs(y)}{lat}'"
   ]
  },
  {
   "cell_type": "code",
   "execution_count": 8,
   "metadata": {},
   "outputs": [
    {
     "name": "stdout",
     "output_type": "stream",
     "text": [
      "Ship at (0, 0), facing E\n",
      "Ship at (10, 0), facing E\n",
      "Ship at (10, -3), facing E\n",
      "Ship at (17, -3), facing E\n",
      "Ship at (17, -3), facing S\n",
      "Ship at (17, 8), facing S\n",
      "Ship at (17, 8), facing S\n"
     ]
    },
    {
     "data": {
      "text/plain": [
       "25"
      ]
     },
     "execution_count": 8,
     "metadata": {},
     "output_type": "execute_result"
    }
   ],
   "source": [
    "s = Ship()\n",
    "print(s)\n",
    "\n",
    "for line in inp:\n",
    "    s.instruction(line.strip())\n",
    "    \n",
    "print(s)\n",
    "Ship.get_distance((0, 0), s.pos)"
   ]
  },
  {
   "cell_type": "code",
   "execution_count": 29,
   "metadata": {},
   "outputs": [],
   "source": [
    "import numpy as np\n",
    "import math\n",
    "\n",
    "class ShipWaypoint(Ship):\n",
    "    def __init__(self, pos=(0, 0), orientation='E', w_offset=(10, -1)):\n",
    "        super().__init__(pos, orientation)\n",
    "        self.w_offset = w_offset\n",
    "        \n",
    "    def move(self, direction, value):\n",
    "        if direction == 'F':\n",
    "            self.pos = self.get_pos_after_move(self.pos, self.w_offset, value)\n",
    "        else:\n",
    "            self.w_offset = self.get_pos_after_move(self.w_offset, self.direc[direction], value)\n",
    "        \n",
    "    def rotate(self, direction, value):\n",
    "        way = -1 if direction == 'L' else 1\n",
    "        angle = way*math.radians(int(value))\n",
    "        rotmat = np.array([[math.cos(angle), -math.sin(angle)], [math.sin(angle), math.cos(angle)]])\n",
    "        self.w_offset = tuple(np.matmul(rotmat, self.w_offset))\n",
    "        \n",
    "    def __str__(self):\n",
    "        \n",
    "        return f'Ship at {self.repr_coord(self.pos)}, waypoint at {self.repr_coord(self.w_offset)}'"
   ]
  },
  {
   "cell_type": "code",
   "execution_count": 30,
   "metadata": {},
   "outputs": [
    {
     "name": "stdout",
     "output_type": "stream",
     "text": [
      "Ship at 0W 0N, waypoint at 10E 1N\n",
      "Ship at 100E 10N, waypoint at 10E 1N\n",
      "Ship at 100E 10N, waypoint at 10E 4N\n",
      "Ship at 170E 38N, waypoint at 10E 4N\n",
      "Ship at 170E 38N, waypoint at 4.000000000000001E 10.0S\n",
      "Ship at 214.0E 72.0S, waypoint at 4.000000000000001E 10.0S\n",
      "Ship at 214.0E 72.0S, waypoint at 4.000000000000001E 10.0S\n"
     ]
    },
    {
     "data": {
      "text/plain": [
       "286.0"
      ]
     },
     "execution_count": 30,
     "metadata": {},
     "output_type": "execute_result"
    }
   ],
   "source": [
    "s = ShipWaypoint()\n",
    "print(s)\n",
    "\n",
    "for line in inp:\n",
    "    s.instruction(line.strip())\n",
    "    \n",
    "print(s)\n",
    "Ship.get_distance((0, 0), s.pos)"
   ]
  }
 ],
 "metadata": {
  "kernelspec": {
   "display_name": "Python 3",
   "language": "python",
   "name": "python3"
  },
  "language_info": {
   "codemirror_mode": {
    "name": "ipython",
    "version": 3
   },
   "file_extension": ".py",
   "mimetype": "text/x-python",
   "name": "python",
   "nbconvert_exporter": "python",
   "pygments_lexer": "ipython3",
   "version": "3.7.3"
  }
 },
 "nbformat": 4,
 "nbformat_minor": 2
}
