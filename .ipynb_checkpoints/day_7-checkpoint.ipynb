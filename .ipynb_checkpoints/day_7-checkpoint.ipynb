{
 "cells": [
  {
   "cell_type": "code",
   "execution_count": 9,
   "metadata": {},
   "outputs": [
    {
     "name": "stdout",
     "output_type": "stream",
     "text": [
      "\n",
      "4 drab lime bags, 1 muted violet bag, 5 drab plum bags, 5 shiny silver bags\n",
      "[('4', 'drab lime'), ('1', 'muted violet'), ('5', 'drab plum'), ('5', 'shiny silver')]\n"
     ]
    }
   ],
   "source": [
    "import re\n",
    "\n",
    "def parse_line(line):\n",
    "    match = re.match(\"(\\w+ \\w+) bags contain ((?:\\d \\w+ \\w+ bags*(?:, )*)*).\", line)\n",
    "    bag, content = match.group(1, 2)\n",
    "    print(content)\n",
    "    if content:\n",
    "        print([re.match(\"(\\d+) (\\w+ \\w+) bags*\", bags).group(1, 2) for bags in content.split(\", \")])\n",
    "    \n",
    "parse_line(\"wavy turquoise bags contain no other bags.\")\n",
    "parse_line(\"vibrant beige bags contain 4 drab lime bags, 1 muted violet bag, 5 drab plum bags, 5 shiny silver bags.\")"
   ]
  }
 ],
 "metadata": {
  "kernelspec": {
   "display_name": "python3.8",
   "language": "python",
   "name": "python3.8"
  },
  "language_info": {
   "codemirror_mode": {
    "name": "ipython",
    "version": 3
   },
   "file_extension": ".py",
   "mimetype": "text/x-python",
   "name": "python",
   "nbconvert_exporter": "python",
   "pygments_lexer": "ipython3",
   "version": "3.8.1"
  }
 },
 "nbformat": 4,
 "nbformat_minor": 2
}
