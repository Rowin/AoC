{
 "cells": [
  {
   "cell_type": "code",
   "execution_count": 25,
   "metadata": {},
   "outputs": [],
   "source": [
    "with open(\"day_13.txt\", \"r\") as f:\n",
    "    inp = f.readlines()"
   ]
  },
  {
   "cell_type": "code",
   "execution_count": 26,
   "metadata": {},
   "outputs": [
    {
     "name": "stdout",
     "output_type": "stream",
     "text": [
      "Have to wait for bus #443 for 5 min. => 2215\n"
     ]
    }
   ],
   "source": [
    "timestamp = int(inp[0])\n",
    "buses = [int(bus) for bus in inp[1].strip().split(',') if bus != 'x']\n",
    "next_departures = [-timestamp % bus for bus in buses]\n",
    "\n",
    "min_waiting_time = min(next_departures)\n",
    "bus_to_catch = buses[next_departures.index(min_waiting_time)]\n",
    "\n",
    "print(f'Have to wait for bus #{bus_to_catch} for {min_waiting_time} min. => {min_waiting_time*bus_to_catch}')"
   ]
  },
  {
   "cell_type": "code",
   "execution_count": 28,
   "metadata": {},
   "outputs": [
    {
     "name": "stdout",
     "output_type": "stream",
     "text": [
      "1058443396696792\n"
     ]
    }
   ],
   "source": [
    "import math\n",
    "\n",
    "# Implementation of the chinese remainder theorem\n",
    "n = math.prod(buses)\n",
    "\n",
    "res = 0\n",
    "# ai is the index in the list, and in this case the position from the searched number at which a bus of the line should arrive\n",
    "for i, ni in enumerate(inp[1].strip().split(',')):\n",
    "    if ni != 'x':\n",
    "        # We are looking for a number such as a bus arrive ai minutes later, \n",
    "        # and as the buses arrive each ni minutes, we are looking for a number with a reminder of ni-i.\n",
    "        # The chinese remainder algorithm search for a number such as x = ai mod ni with ai the remainder\n",
    "        ai = (int(ni) - i) % int(ni)   \n",
    "        vi = int(n/int(ni))\n",
    "        # The pow function used this way (>=3.8) allows to compute the multiplicative modular inverse, ie the number\n",
    "        # x such as vi*x = 1 (mod ni)\n",
    "        ei = vi*pow(vi, -1, int(ni)) \n",
    "        res += ai*ei\n",
    "        \n",
    "print(res % n)"
   ]
  }
 ],
 "metadata": {
  "kernelspec": {
   "display_name": "python3.8",
   "language": "python",
   "name": "python3.8"
  },
  "language_info": {
   "codemirror_mode": {
    "name": "ipython",
    "version": 3
   },
   "file_extension": ".py",
   "mimetype": "text/x-python",
   "name": "python",
   "nbconvert_exporter": "python",
   "pygments_lexer": "ipython3",
   "version": "3.8.1"
  }
 },
 "nbformat": 4,
 "nbformat_minor": 2
}
