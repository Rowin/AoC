{
 "cells": [
  {
   "cell_type": "markdown",
   "metadata": {},
   "source": [
    "# Input"
   ]
  },
  {
   "cell_type": "code",
   "execution_count": 1,
   "metadata": {},
   "outputs": [],
   "source": [
    "with open(\"day_7.txt\", \"r\") as f:\n",
    "    inp = f.readlines()"
   ]
  },
  {
   "cell_type": "markdown",
   "metadata": {},
   "source": [
    "# Utils"
   ]
  },
  {
   "cell_type": "code",
   "execution_count": 2,
   "metadata": {},
   "outputs": [],
   "source": [
    "import re\n",
    "\n",
    "def parse_line(line):\n",
    "    match = re.match(\"(\\w+ \\w+) bags contain ((?:\\d \\w+ \\w+ bags*(?:, )*)*).\", line)\n",
    "    bag, content = match.group(1, 2)\n",
    "    if content:\n",
    "        content = [re.match(\"(\\d+) (\\w+ \\w+) bags*\", bags).group(1, 2) for bags in content.split(\", \")]\n",
    "        content_dict = {bag: nb for nb, bag in content}\n",
    "    else:\n",
    "        content_dict = {}\n",
    "        \n",
    "    return bag, content_dict\n"
   ]
  },
  {
   "cell_type": "code",
   "execution_count": 3,
   "metadata": {},
   "outputs": [],
   "source": [
    "import numpy as np\n",
    "\n",
    "rule_dict = {}\n",
    "for line in inp:\n",
    "    name, content = parse_line(line)\n",
    "    rule_dict[name] = content"
   ]
  },
  {
   "cell_type": "markdown",
   "metadata": {},
   "source": [
    "# Part 1"
   ]
  },
  {
   "cell_type": "code",
   "execution_count": 4,
   "metadata": {},
   "outputs": [
    {
     "name": "stdout",
     "output_type": "stream",
     "text": [
      "222\n"
     ]
    }
   ],
   "source": [
    "# Generation of an directed graph\n",
    "indexes = list(rule_dict.keys()) # Define an index for each bag\n",
    "rule_graph = np.zeros((len(rule_dict), len(rule_dict))) # Empty graph matrix\n",
    "for outer_bag, content in rule_dict.items(): # Iteration on the bag dictionnary\n",
    "    outer_bag_ind = indexes.index(outer_bag) # Get the index of the bag \n",
    "    for inner_bag, number in content.items(): # Iteration on the content of the bag\n",
    "        inner_bag_ind = indexes.index(inner_bag) # Get the index of the inner bag\n",
    "        rule_graph[outer_bag_ind][inner_bag_ind] = number # Specify the number of bags as the weight of the link between the inner and outer bag\n",
    "        \n",
    "        \n",
    "from scipy.sparse import csr_matrix\n",
    "from scipy.sparse.csgraph import shortest_path\n",
    "\n",
    "graph = csr_matrix(rule_graph) # Transformation to a numpy graph\n",
    "shortest_graph = shortest_path(graph) # Compute the minimal distance from one node to another. As we are in a directed graph, if the shortest path between a node A and a node B is infinite, then the bag B is not include in the bag A\n",
    "\n",
    "# Now we look, for the given bag, which nodes have a finite distance to this node.\n",
    "counter = 0\n",
    "for distance in shortest_graph[:,indexes.index(\"shiny gold\")]:\n",
    "    if distance != np.inf and distance != 0:\n",
    "        counter += 1\n",
    "print(counter)"
   ]
  },
  {
   "cell_type": "markdown",
   "metadata": {},
   "source": [
    "# Part 2"
   ]
  },
  {
   "cell_type": "code",
   "execution_count": 5,
   "metadata": {},
   "outputs": [],
   "source": [
    "# Simple recursive function : for each inner bag we add the number of this bag and then run the function for the inner bag...\n",
    "def get_number_of_bags(name):\n",
    "    # Termination condition : if the inner bag is empty, we return 0\n",
    "    if rule_dict[name] == {}:\n",
    "        return 0\n",
    "    \n",
    "    counter = 0\n",
    "    for bags, count in rule_dict[name].items():\n",
    "        counter += int(count) + int(count)*get_number_of_bags(bags)\n",
    "        \n",
    "    return counter"
   ]
  },
  {
   "cell_type": "code",
   "execution_count": 6,
   "metadata": {},
   "outputs": [
    {
     "data": {
      "text/plain": [
       "13264"
      ]
     },
     "execution_count": 6,
     "metadata": {},
     "output_type": "execute_result"
    }
   ],
   "source": [
    "get_number_of_bags(\"shiny gold\")"
   ]
  }
 ],
 "metadata": {
  "kernelspec": {
   "display_name": "Python 3",
   "language": "python",
   "name": "python3"
  },
  "language_info": {
   "codemirror_mode": {
    "name": "ipython",
    "version": 3
   },
   "file_extension": ".py",
   "mimetype": "text/x-python",
   "name": "python",
   "nbconvert_exporter": "python",
   "pygments_lexer": "ipython3",
   "version": "3.7.3"
  }
 },
 "nbformat": 4,
 "nbformat_minor": 2
}
