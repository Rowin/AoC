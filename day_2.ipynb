{
 "cells": [
  {
   "cell_type": "markdown",
   "metadata": {},
   "source": [
    "# Input"
   ]
  },
  {
   "cell_type": "code",
   "execution_count": 1,
   "metadata": {},
   "outputs": [],
   "source": [
    "with open(\"day_2.txt\", \"r\") as f:\n",
    "    inp = f.readlines()"
   ]
  },
  {
   "cell_type": "markdown",
   "metadata": {},
   "source": [
    "# Utils"
   ]
  },
  {
   "cell_type": "code",
   "execution_count": 2,
   "metadata": {},
   "outputs": [],
   "source": [
    "import re\n",
    "\n",
    "def count_valid_password(inp, is_valid):\n",
    "    valid_passwd_counter = 0\n",
    "    for l in inp:\n",
    "        rule, password = l.strip().split(\": \") # Could be integrated in the regex...\n",
    "        match = re.match(\"(\\d+)-(\\d+) (\\w)\", rule)\n",
    "        if is_valid(password, match.group(1, 2, 3)):\n",
    "            valid_passwd_counter += 1\n",
    "            \n",
    "    print(f\"# Valid password: {valid_passwd_counter}\")"
   ]
  },
  {
   "cell_type": "markdown",
   "metadata": {},
   "source": [
    "# Part 1"
   ]
  },
  {
   "cell_type": "code",
   "execution_count": 3,
   "metadata": {},
   "outputs": [
    {
     "name": "stdout",
     "output_type": "stream",
     "text": [
      "# Valid password: 383\n"
     ]
    }
   ],
   "source": [
    "def is_valid_part_1(password, rule):\n",
    "    min_letter, max_letter, letter = rule\n",
    "    letter_count = password.count(letter)\n",
    "    if (letter_count >= int(min_letter)) and (letter_count <= int(max_letter)):\n",
    "        return True\n",
    "    return False\n",
    "    \n",
    "        \n",
    "count_valid_password(inp, is_valid_part_1)"
   ]
  },
  {
   "cell_type": "markdown",
   "metadata": {},
   "source": [
    "# Part 2"
   ]
  },
  {
   "cell_type": "code",
   "execution_count": 4,
   "metadata": {},
   "outputs": [
    {
     "name": "stdout",
     "output_type": "stream",
     "text": [
      "# Valid password: 272\n"
     ]
    }
   ],
   "source": [
    "def is_valid_part_2(password, rule):\n",
    "    pos1, pos2, letter = rule\n",
    "    if (password[int(pos1)-1] == letter) ^ (password[int(pos2)-1] == letter):\n",
    "        return True\n",
    "    return False\n",
    "        \n",
    "count_valid_password(inp, is_valid_part_2)"
   ]
  }
 ],
 "metadata": {
  "kernelspec": {
   "display_name": "Python 3",
   "language": "python",
   "name": "python3"
  },
  "language_info": {
   "codemirror_mode": {
    "name": "ipython",
    "version": 3
   },
   "file_extension": ".py",
   "mimetype": "text/x-python",
   "name": "python",
   "nbconvert_exporter": "python",
   "pygments_lexer": "ipython3",
   "version": "3.7.3"
  }
 },
 "nbformat": 4,
 "nbformat_minor": 2
}
