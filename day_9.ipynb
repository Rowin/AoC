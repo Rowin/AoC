{
 "cells": [
  {
   "cell_type": "markdown",
   "metadata": {},
   "source": [
    "# Input"
   ]
  },
  {
   "cell_type": "code",
   "execution_count": 2,
   "metadata": {},
   "outputs": [],
   "source": [
    "with open(\"day_9.txt\", \"r\") as f:\n",
    "    inp = f.readlines()"
   ]
  },
  {
   "cell_type": "code",
   "execution_count": 5,
   "metadata": {},
   "outputs": [
    {
     "name": "stdout",
     "output_type": "stream",
     "text": [
      "22406676\n"
     ]
    }
   ],
   "source": [
    "from collections import deque\n",
    "\n",
    "def is_sum_of_two(a, int_list):\n",
    "    for i in int_list:\n",
    "        if (a-i in int_list) and ((a-i)!=i):\n",
    "            return True\n",
    "    return False\n",
    "\n",
    "buffer = deque()\n",
    "\n",
    "for i, line in enumerate(inp):\n",
    "    if i >= 25:\n",
    "        if not is_sum_of_two(int(line), buffer):\n",
    "            print(vuln:=int(line))\n",
    "            break\n",
    "        buffer.popleft()\n",
    "    buffer.append(int(line))\n"
   ]
  },
  {
   "cell_type": "code",
   "execution_count": 7,
   "metadata": {},
   "outputs": [
    {
     "name": "stdout",
     "output_type": "stream",
     "text": [
      "931988 --> 1579964\n",
      "2942387\n"
     ]
    }
   ],
   "source": [
    "def get_continuous_range(target):\n",
    "    for i, line in enumerate(inp):\n",
    "        counter = 0\n",
    "        range_int = []\n",
    "        for j in inp[i:]:\n",
    "            counter += int(j)\n",
    "            range_int.append(int(j))\n",
    "            if counter > target:\n",
    "                break\n",
    "            elif counter == target: \n",
    "                print(f\"{int(line)} --> {int(j)}\")\n",
    "                return range_int\n",
    "\n",
    "continuous_range = get_continuous_range(vuln)\n",
    "print(max(continuous_range) + min(continuous_range))"
   ]
  }
 ],
 "metadata": {
  "kernelspec": {
   "display_name": "python3.8",
   "language": "python",
   "name": "python3.8"
  },
  "language_info": {
   "codemirror_mode": {
    "name": "ipython",
    "version": 3
   },
   "file_extension": ".py",
   "mimetype": "text/x-python",
   "name": "python",
   "nbconvert_exporter": "python",
   "pygments_lexer": "ipython3",
   "version": "3.8.1"
  }
 },
 "nbformat": 4,
 "nbformat_minor": 2
}
