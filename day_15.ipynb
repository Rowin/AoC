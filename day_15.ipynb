{
 "cells": [
  {
   "cell_type": "code",
   "execution_count": 97,
   "metadata": {},
   "outputs": [],
   "source": [
    "starting_list = [9,3,1,0,8,4]"
   ]
  },
  {
   "cell_type": "markdown",
   "metadata": {},
   "source": [
    "# Part 1"
   ]
  },
  {
   "cell_type": "code",
   "execution_count": 138,
   "metadata": {},
   "outputs": [],
   "source": [
    "def find_nth_number(starting_list, n, verbose=True):\n",
    "    starting_list = starting_list.copy()\n",
    "    last_occurences = {number: i for i, number in enumerate(starting_list)}\n",
    "\n",
    "    previous = starting_list[-1]\n",
    "    for i in range(len(starting_list), n):\n",
    "        if not previous in last_occurences:\n",
    "            new = 0\n",
    "        else:\n",
    "            new = (i-1) - last_occurences[previous]\n",
    "\n",
    "        last_occurences[previous] = i-1\n",
    "        previous = new\n",
    "\n",
    "        if i % int(n/10) == 0 and verbose:\n",
    "            print(f'Progress: #{i}')\n",
    "\n",
    "    return new"
   ]
  },
  {
   "cell_type": "code",
   "execution_count": 146,
   "metadata": {},
   "outputs": [
    {
     "data": {
      "text/plain": [
       "371"
      ]
     },
     "execution_count": 146,
     "metadata": {},
     "output_type": "execute_result"
    }
   ],
   "source": [
    "find_nth_number(starting_list, 2020, verbose=False)"
   ]
  },
  {
   "cell_type": "markdown",
   "metadata": {},
   "source": [
    "# Performance study\n",
    "\n",
    "The algorithm used here is quite efficient, mostly linear, as we avoid the to iterate on the list of previous numbers. For the sake of the sport, let's compare it to a quite uneficient algorithm which search the index of the previous number using the built-in index method (which is quite efficient !)"
   ]
  },
  {
   "cell_type": "code",
   "execution_count": 142,
   "metadata": {},
   "outputs": [
    {
     "name": "stdout",
     "output_type": "stream",
     "text": [
      "The slowest run took 7.59 times longer than the fastest. This could mean that an intermediate result is being cached.\n",
      "10000 loops, best of 5: 69.5 µs per loop\n",
      "1000 loops, best of 5: 814 µs per loop\n",
      "1000 loops, best of 5: 1.77 ms per loop\n"
     ]
    }
   ],
   "source": [
    "%timeit find_nth_number(starting_list, 200, verbose=False)\n",
    "%timeit find_nth_number(starting_list, 2000, verbose=False)\n",
    "%timeit find_nth_number(starting_list, 4000, verbose=False)"
   ]
  },
  {
   "cell_type": "code",
   "execution_count": 100,
   "metadata": {},
   "outputs": [],
   "source": [
    "def find_nth_number_greedy(starting_list, n, verbose=True):\n",
    "    starting_list = starting_list.copy()\n",
    "\n",
    "    i = len(starting_list)\n",
    "    while i < n:\n",
    "        previous = starting_list[-1]\n",
    "        try:\n",
    "            index_previous = len(starting_list) - 2 - starting_list[-2::-1].index(previous)\n",
    "            new = (i-1) - index_previous\n",
    "        except ValueError:\n",
    "            new = 0\n",
    "\n",
    "        starting_list.append(new)\n",
    "\n",
    "        # print(f'Turn #{i+1}: {new}')\n",
    "\n",
    "        i += 1\n",
    "        if i % int(n/10) == 0 and verbose:\n",
    "            print(f'Progress: #{i}')\n",
    "\n",
    "    return new"
   ]
  },
  {
   "cell_type": "code",
   "execution_count": 105,
   "metadata": {},
   "outputs": [
    {
     "name": "stdout",
     "output_type": "stream",
     "text": [
      "1000 loops, best of 5: 331 µs per loop\n",
      "100 loops, best of 5: 16 ms per loop\n",
      "10 loops, best of 5: 61.2 ms per loop\n"
     ]
    }
   ],
   "source": [
    "%timeit find_nth_number_greedy(starting_list, 200, verbose=False)\n",
    "%timeit find_nth_number_greedy(starting_list, 2000, verbose=False)\n",
    "%timeit find_nth_number_greedy(starting_list, 4000, verbose=False)"
   ]
  },
  {
   "cell_type": "markdown",
   "metadata": {},
   "source": [
    "As expected, the greedy algorithm is quite slow, and even of polynomial time ! A rough estimation for the time needed for n = 30 000 000 (Part 2) gives 160 years !"
   ]
  },
  {
   "cell_type": "markdown",
   "metadata": {},
   "source": [
    "# Part 2"
   ]
  },
  {
   "cell_type": "code",
   "execution_count": 148,
   "metadata": {},
   "outputs": [
    {
     "name": "stdout",
     "output_type": "stream",
     "text": [
      "Progress: #3000000\n",
      "Progress: #6000000\n",
      "Progress: #9000000\n",
      "Progress: #12000000\n",
      "Progress: #15000000\n",
      "Progress: #18000000\n",
      "Progress: #21000000\n",
      "Progress: #24000000\n",
      "Progress: #27000000\n"
     ]
    },
    {
     "data": {
      "text/plain": [
       "352"
      ]
     },
     "execution_count": 148,
     "metadata": {},
     "output_type": "execute_result"
    }
   ],
   "source": [
    "find_nth_number(starting_list, 30000000)"
   ]
  }
 ],
 "metadata": {
  "kernelspec": {
   "display_name": "Python 3",
   "language": "python",
   "name": "python3"
  },
  "language_info": {
   "codemirror_mode": {
    "name": "ipython",
    "version": 3
   },
   "file_extension": ".py",
   "mimetype": "text/x-python",
   "name": "python",
   "nbconvert_exporter": "python",
   "pygments_lexer": "ipython3",
   "version": "3.7.3"
  }
 },
 "nbformat": 4,
 "nbformat_minor": 2
}
